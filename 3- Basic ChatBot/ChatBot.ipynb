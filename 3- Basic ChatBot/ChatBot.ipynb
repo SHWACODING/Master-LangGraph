{
 "cells": [
  {
   "cell_type": "markdown",
   "id": "99042d81",
   "metadata": {},
   "source": [
    "#### ArXiv and Wiki Tools ??"
   ]
  },
  {
   "cell_type": "code",
   "execution_count": 1,
   "id": "f77680ef",
   "metadata": {},
   "outputs": [],
   "source": [
    "from langchain_community.tools import ArxivQueryRun, WikipediaQueryRun\n",
    "from langchain_community.utilities import WikipediaAPIWrapper, ArxivAPIWrapper"
   ]
  },
  {
   "cell_type": "code",
   "execution_count": 2,
   "id": "32c21ccf",
   "metadata": {},
   "outputs": [],
   "source": [
    "api_wrapper_arxiv = ArxivAPIWrapper(top_k_results=2, doc_content_chars_max=500)\n",
    "\n",
    "arxiv = ArxivQueryRun(api_wrapper=api_wrapper_arxiv, description=\"Quary ArXiv for Papers\")"
   ]
  },
  {
   "cell_type": "code",
   "execution_count": null,
   "id": "eecea3da",
   "metadata": {},
   "outputs": [
    {
     "name": "stdout",
     "output_type": "stream",
     "text": [
      "arxiv\n"
     ]
    }
   ],
   "source": [
    "arxiv.name"
   ]
  },
  {
   "cell_type": "code",
   "execution_count": 4,
   "id": "6f555d25",
   "metadata": {},
   "outputs": [
    {
     "data": {
      "text/plain": [
       "\"Published: 2024-07-22\\nTitle: Attention Is All You Need But You Don't Need All Of It For Inference of Large Language Models\\nAuthors: Georgy Tyukin, Gbetondji J-S Dovonon, Jean Kaddour, Pasquale Minervini\\nSummary: The inference demand for LLMs has skyrocketed in recent months, and serving\\nmodels with low latencies remains challenging due to the quadratic input length\\ncomplexity of the attention layers. In this work, we investigate the effect of\\ndropping MLP and attention layers at inference time o\""
      ]
     },
     "execution_count": 4,
     "metadata": {},
     "output_type": "execute_result"
    }
   ],
   "source": [
    "arxiv.invoke(\"Attention is all you need\")"
   ]
  },
  {
   "cell_type": "code",
   "execution_count": 6,
   "id": "c8944f0c",
   "metadata": {},
   "outputs": [],
   "source": [
    "api_wrapper_wiki = WikipediaAPIWrapper(top_k_results=1, doc_content_chars_max=500)\n",
    "\n",
    "wiki = WikipediaQueryRun(api_wrapper=api_wrapper_wiki, description=\"Query Wikipedia for Articles\")"
   ]
  },
  {
   "cell_type": "code",
   "execution_count": 7,
   "id": "ee0a3be1",
   "metadata": {},
   "outputs": [
    {
     "data": {
      "text/plain": [
       "'wikipedia'"
      ]
     },
     "execution_count": 7,
     "metadata": {},
     "output_type": "execute_result"
    }
   ],
   "source": [
    "wiki.name"
   ]
  },
  {
   "cell_type": "code",
   "execution_count": 8,
   "id": "a0dde149",
   "metadata": {},
   "outputs": [
    {
     "data": {
      "text/plain": [
       "'Page: List of unsolved problems in mathematics\\nSummary: Many mathematical problems have been stated but not yet solved. These problems come from many areas of mathematics, such as theoretical physics, computer science, algebra, analysis, combinatorics, algebraic, differential, discrete and Euclidean geometries, graph theory, group theory, model theory, number theory, set theory, Ramsey theory, dynamical systems, and partial differential equations. Some problems belong to more than one discipline'"
      ]
     },
     "execution_count": 8,
     "metadata": {},
     "output_type": "execute_result"
    }
   ],
   "source": [
    "wiki.invoke(\"What is LangGraph?\")"
   ]
  },
  {
   "cell_type": "markdown",
   "id": "687b9e26",
   "metadata": {},
   "source": [
    "#### Seting Enviroment Variables ??"
   ]
  },
  {
   "cell_type": "code",
   "execution_count": 9,
   "id": "72c6c01f",
   "metadata": {},
   "outputs": [],
   "source": [
    "import os\n",
    "from dotenv import load_dotenv\n",
    "\n",
    "load_dotenv()\n",
    "\n",
    "os.environ[\"GROQ_API_KEY\"] = os.getenv(\"GROQ_API_KEY\")\n",
    "os.environ[\"TAVILY_API_KEY\"] = os.getenv(\"TAVILY_API_KEY\")"
   ]
  },
  {
   "cell_type": "markdown",
   "id": "de1f9860",
   "metadata": {},
   "source": [
    "#### Tavily Search Tool ??"
   ]
  },
  {
   "cell_type": "code",
   "execution_count": 11,
   "id": "3e7a55de",
   "metadata": {},
   "outputs": [],
   "source": [
    "from langchain_community.tools.tavily_search import TavilySearchResults\n",
    "\n",
    "tavily = TavilySearchResults()"
   ]
  },
  {
   "cell_type": "code",
   "execution_count": 12,
   "id": "7472805f",
   "metadata": {},
   "outputs": [
    {
     "data": {
      "text/plain": [
       "[{'title': 'The latest AI news we announced in June - Google Blog',\n",
       "  'url': 'https://blog.google/technology/ai/google-ai-updates-june-2025/',\n",
       "  'content': \"# The latest AI news we announced in June\\n\\nJul 02, 2025\\n\\nHere’s a recap of some of our biggest AI updates from June, including more ways to search with AI Mode, a new way to share your NotebookLM notebooks publicly, and a new AI to help researchers better understand the human genome.\\n\\nSuperG\\n\\n## Basic explainer [...] Search finds new voice, and photos bright,  \\nWhile Chromebooks gain AI's keenest edge,  \\nAnd learning's path is filled with light.\\n\\nGenomes unlock, from knowledge pledge,  \\nAnd robots learn, with vision clear,  \\nWhile cancer's foe meets AI's siege.\\n\\nFrom Google's labs, new AI doth spring,  \\nWith Gemini's models taking flight,  \\nAnd tools for coders, joy to bring.\\n\\nSearch finds new voice, and photos bright,  \\nWhile Chromebooks gain AI's keenest edge,  \\nAnd learning's path is filled with light. [...] Google made some cool AI updates in June. They made their AI models faster and cheaper for people to use. You can now use your voice to search with AI and find photos easier. Also, AI can now help students learn and scientists understand the human body better.\",\n",
       "  'score': 0.7166357},\n",
       " {'title': 'Artificial Intelligence News - ScienceDaily',\n",
       "  'url': 'https://www.sciencedaily.com/news/computers_math/artificial_intelligence/',\n",
       "  'content': \"ScienceDaily\\n\\n# Artificial Intelligence News\\n\\n## Top Headlines\\n\\n## Latest Headlines\\n\\n## Earlier Headlines\\n\\n### Tuesday, May 27, 2025\\n\\n### Thursday, May 22, 2025\\n\\n### Wednesday, May 21, 2025\\n\\n### Monday, May 19, 2025\\n\\n### Thursday, May 15, 2025\\n\\n### Wednesday, May 14, 2025\\n\\n### Tuesday, May 13, 2025\\n\\n### Monday, May 12, 2025\\n\\n### Thursday, May 8, 2025\\n\\n### Wednesday, May 7, 2025\\n\\n### Tuesday, May 6, 2025\\n\\n### Monday, May 5, 2025\\n\\n### Thursday, May 1, 2025\\n\\n### Wednesday, April 30, 2025 [...] ### Monday, April 28, 2025\\n\\n### Friday, April 25, 2025\\n\\n### Thursday, April 24, 2025\\n\\n### Wednesday, April 23, 2025\\n\\n### Tuesday, April 22, 2025\\n\\n### Monday, April 21, 2025\\n\\n### Wednesday, April 16, 2025\\n\\n### Tuesday, April 15, 2025\\n\\n### Monday, April 14, 2025\\n\\n### Thursday, April 10, 2025\\n\\n### Wednesday, April 9, 2025\\n\\n### Tuesday, April 8, 2025\\n\\n### Monday, April 7, 2025\\n\\n### Friday, April 4, 2025\\n\\n### Thursday, April 3, 2025\\n\\n### Wednesday, April 2, 2025\\n\\n### Monday, March 31, 2025 [...] ### Friday, March 28, 2025\\n\\n### Thursday, March 27, 2025\\n\\n### Wednesday, March 26, 2025\\n\\n### Tuesday, March 25, 2025\\n\\n### Thursday, March 20, 2025\\n\\n### Wednesday, March 19, 2025\\n\\n### Tuesday, March 18, 2025\\n\\n## Breaking\\n\\n## Trending Topics\\n\\n## Strange & Offbeat\\n\\nStay informed with ScienceDaily's free email newsletter, updated daily and weekly. Or view our many newsfeeds in your RSS reader:\\n\\nKeep up to date with the latest news from ScienceDaily via social networks:\",\n",
       "  'score': 0.68318754},\n",
       " {'title': 'The 2025 AI Index Report | Stanford HAI',\n",
       "  'url': 'https://hai.stanford.edu/ai-index/2025-ai-index-report',\n",
       "  'content': '### 2. AI is increasingly embedded in everyday life.\\n\\nFrom healthcare to transportation, AI is rapidly moving from the lab to daily life. In 2023, the FDA approved 223 AI-enabled medical devices, up from just six in 2015. On the roads, self-driving cars are no longer experimental: Waymo, one of the largest U.S. operators, provides over 150,000 autonomous rides each week, while Baidu’s affordable Apollo Go robotaxi fleet now serves numerous cities across China. [...] In 2024, U.S. private AI investment grew to $109.1 billion—nearly 12 times China’s $9.3 billion and 24 times the U.K.’s $4.5 billion. Generative AI saw particularly strong momentum, attracting $33.9 billion globally in private investment—an 18.7% increase from 2023. AI business usage is also accelerating: 78% of organizations reported using AI in 2024, up from 55% the year before. Meanwhile, a growing body of research confirms that AI boosts productivity and, in most cases, helps narrow skill [...] In 2024, U.S. federal agencies introduced 59 AI-related regulations—more than double the number in 2023—and issued by twice as many agencies. Globally, legislative mentions of AI rose 21.3% across 75 countries since 2023, marking a ninefold increase since 2016. Alongside growing attention, governments are investing at scale: Canada pledged $2.4 billion, China launched a $47.5 billion semiconductor fund, France committed €109 billion, India pledged $1.25 billion, and Saudi Arabia’s Project',\n",
       "  'score': 0.6455898},\n",
       " {'title': 'Top 11 New Technologies in AI: Exploring the Latest Trends - devabit',\n",
       "  'url': 'https://devabit.com/blog/top-11-new-technologies-in-ai-exploring-the-latest-trends/',\n",
       "  'content': \"A recent LinkedIn US Executive Confidence Index Survey from June 2023 reflects an optimistic outlook: 47% of executives believe generative AI will boost productivity; 44% plan to augment their newest AI technology utilization in the coming year; and 40% view AI as a key to unlocking growth and revenue. Microsoft's 2023 Work Trend Index further bolsters this sentiment, revealing that a whopping 70% of individuals would gladly delegate tasks to AI to ease their workloads. [...] According to the Statista report, in 2022, the global total corporate investment in artificial intelligence reached almost 92 billion U.S. dollars, a slight decrease from the previous year. In 2018, the yearly investment in AI news saw a slight downturn, but that was only temporary. You can see that AI investment has increased more than sixfold since 2016, a staggering growth in any market. It is a testament to the importance of the development of the new technologies in AI around the world. [...] Do not wait; contact us today in order to shape the future of your business with AI!\\n\\n### Recent Publications\\n\\nDon't miss out! Click here to stay in touch.\\n\\n### Discover more\\n\\n## Liked the article? You will like our email too\\n\\nGet the latest news from the devabit blog.\\n\\nThumbnail\\n\\n## Relevant Articles View all categories\\n\\n### How to Develop a Football Team Management App? Pro Developer Shares Best Tips\\n\\n#### \\n\\n### How to Develop a Real Estate Platform?\\n\\n####\",\n",
       "  'score': 0.60274047},\n",
       " {'title': \"The Trump Administration's 2025 AI Action Plan – Winning the Race\",\n",
       "  'url': 'https://www.sidley.com/en/insights/newsupdates/2025/07/the-trump-administrations-2025-ai-action-plan',\n",
       "  'content': 'On July 23, 2025, the Trump administration released its much-anticipated AI Action Plan, outlining 90 federal policy positions across three key pillars: Accelerating Innovation, Building American AI Infrastructure, and Leading in International Diplomacy and Security. These pillars are designed to guide near-term action and are underpinned by three cross-cutting priorities: protecting and promoting American workers, ensuring that artificial intelligence (AI) systems are trustworthy and free from',\n",
       "  'score': 0.47606868}]"
      ]
     },
     "execution_count": 12,
     "metadata": {},
     "output_type": "execute_result"
    }
   ],
   "source": [
    "tavily.invoke(\"Provide me with the latest news on AI\")"
   ]
  },
  {
   "cell_type": "markdown",
   "id": "1fcbabc8",
   "metadata": {},
   "source": [
    "#### combining ALL Tools To Work Together ??"
   ]
  },
  {
   "cell_type": "code",
   "execution_count": 16,
   "id": "16bca288",
   "metadata": {},
   "outputs": [],
   "source": [
    "tools = [arxiv, wiki, tavily]"
   ]
  },
  {
   "cell_type": "markdown",
   "id": "311f588e",
   "metadata": {},
   "source": [
    "#### Initialize LLM Model ??"
   ]
  },
  {
   "cell_type": "code",
   "execution_count": 13,
   "id": "8ab0bce4",
   "metadata": {},
   "outputs": [],
   "source": [
    "from langchain_groq import ChatGroq\n",
    "\n",
    "llm = ChatGroq(model=\"llama-3.3-70b-versatile\")"
   ]
  },
  {
   "cell_type": "code",
   "execution_count": 14,
   "id": "024c4047",
   "metadata": {},
   "outputs": [
    {
     "data": {
      "text/plain": [
       "AIMessage(content='Quantum Supremacy is a term used to describe when a quantum computer can perform a specific task that is beyond the capabilities of a classical computer. In other words, it\\'s when a quantum computer can solve a problem that is too difficult or time-consuming for a regular computer to handle.\\n\\nThink of it like a competition between a classical computer (like the one you\\'re using now) and a quantum computer. The goal is to perform a specific calculation or task, and whoever finishes first wins.\\n\\nClassical computers use \"bits\" to process information, which can only be in one of two states: 0 or 1. Quantum computers, on the other hand, use \"qubits\" (quantum bits), which can exist in multiple states at the same time. This property, called superposition, allows quantum computers to process vast amounts of information simultaneously.\\n\\nIn 2019, Google announced that it had achieved Quantum Supremacy by performing a specific calculation on a quantum computer that would take an incredibly long time for a classical computer to complete. This calculation, called a \"random circuit sampling task,\" involved generating a vast number of random numbers and performing complex calculations on them.\\n\\nTo put it simply, Google\\'s quantum computer was able to:\\n\\n1. Generate a huge number of random numbers (like throwing a million dice at once)\\n2. Perform complex calculations on those numbers (like multiplying and adding them together)\\n3. Produce a result that was beyond the capabilities of a classical computer to verify or replicate\\n\\nThis achievement marked a significant milestone in the development of quantum computing, as it demonstrated that quantum computers can indeed perform tasks that are beyond the capabilities of classical computers.\\n\\nHowever, it\\'s worth noting that Quantum Supremacy is not the same as \"quantum practicality.\" While quantum computers can perform certain tasks that are beyond the capabilities of classical computers, they are still in the early stages of development, and it will take time and research to make them practical and useful for everyday applications.', additional_kwargs={}, response_metadata={'token_usage': {'completion_tokens': 401, 'prompt_tokens': 45, 'total_tokens': 446, 'completion_time': 0.994735743, 'prompt_time': 0.01108604, 'queue_time': 0.08450878299999999, 'total_time': 1.005821783}, 'model_name': 'llama-3.3-70b-versatile', 'system_fingerprint': 'fp_9a8b91ba77', 'service_tier': 'on_demand', 'finish_reason': 'stop', 'logprobs': None}, id='run--ad890797-42a0-4b45-9d73-6b552cc62a29-0', usage_metadata={'input_tokens': 45, 'output_tokens': 401, 'total_tokens': 446})"
      ]
     },
     "execution_count": 14,
     "metadata": {},
     "output_type": "execute_result"
    }
   ],
   "source": [
    "llm.invoke(\"Explain me Quantum Supremacy in simple terms\")"
   ]
  },
  {
   "cell_type": "code",
   "execution_count": 17,
   "id": "3a5a808a",
   "metadata": {},
   "outputs": [],
   "source": [
    "llm_with_tools = llm.bind_tools(tools)"
   ]
  },
  {
   "cell_type": "markdown",
   "id": "275522e6",
   "metadata": {},
   "source": [
    "#### Execute Some Tests ??"
   ]
  },
  {
   "cell_type": "code",
   "execution_count": 18,
   "id": "0376f187",
   "metadata": {},
   "outputs": [
    {
     "data": {
      "text/plain": [
       "AIMessage(content='', additional_kwargs={'tool_calls': [{'id': 'gd14tgqj3', 'function': {'arguments': '{\"query\":\"latest research on quantum computing\"}', 'name': 'arxiv'}, 'type': 'function'}]}, response_metadata={'token_usage': {'completion_tokens': 19, 'prompt_tokens': 404, 'total_tokens': 423, 'completion_time': 0.058638903, 'prompt_time': 0.037569857, 'queue_time': 0.107076673, 'total_time': 0.09620876}, 'model_name': 'llama-3.3-70b-versatile', 'system_fingerprint': 'fp_3f3b593e33', 'service_tier': 'on_demand', 'finish_reason': 'tool_calls', 'logprobs': None}, id='run--dcd7d076-dd68-4f9b-9816-582581d6a7c0-0', tool_calls=[{'name': 'arxiv', 'args': {'query': 'latest research on quantum computing'}, 'id': 'gd14tgqj3', 'type': 'tool_call'}], usage_metadata={'input_tokens': 404, 'output_tokens': 19, 'total_tokens': 423})"
      ]
     },
     "execution_count": 18,
     "metadata": {},
     "output_type": "execute_result"
    }
   ],
   "source": [
    "llm_with_tools.invoke(\"What is the latest research on quantum computing?\")"
   ]
  },
  {
   "cell_type": "code",
   "execution_count": 19,
   "id": "f2498f07",
   "metadata": {},
   "outputs": [
    {
     "data": {
      "text/plain": [
       "AIMessage(content='<function=wikipedia{\"query\": \"Machine Learning\"}</function>', additional_kwargs={}, response_metadata={'token_usage': {'completion_tokens': 15, 'prompt_tokens': 400, 'total_tokens': 415, 'completion_time': 0.03310368, 'prompt_time': 0.036239944, 'queue_time': 0.086340051, 'total_time': 0.069343624}, 'model_name': 'llama-3.3-70b-versatile', 'system_fingerprint': 'fp_e91e6fbd56', 'service_tier': 'on_demand', 'finish_reason': 'stop', 'logprobs': None}, id='run--8852ea20-64d3-496a-8d02-6315c71117f8-0', usage_metadata={'input_tokens': 400, 'output_tokens': 15, 'total_tokens': 415})"
      ]
     },
     "execution_count": 19,
     "metadata": {},
     "output_type": "execute_result"
    }
   ],
   "source": [
    "llm_with_tools.invoke(\"What is Machine Learning?\")"
   ]
  },
  {
   "cell_type": "markdown",
   "id": "7ba41a0a",
   "metadata": {},
   "source": [
    "#### Starting LangGraph Workflow ???"
   ]
  },
  {
   "cell_type": "code",
   "execution_count": 20,
   "id": "6ab1b739",
   "metadata": {},
   "outputs": [],
   "source": [
    "from typing_extensions import TypedDict            ## Labeling\n",
    "from langchain_core.messages import AnyMessage     ## HumanMessage or AIMessage\n",
    "from typing import Annotated                       ## Labeling\n",
    "from langgraph.graph.message import add_messages   ## Reducers in LangGraph"
   ]
  },
  {
   "cell_type": "markdown",
   "id": "6f02f2ae",
   "metadata": {},
   "source": [
    "from langgraph.graph.message import add_messages ->  \n",
    "that add_messages is used as a Reducer Which is Used To Append new messages inseat of overwriting it"
   ]
  },
  {
   "cell_type": "code",
   "execution_count": 21,
   "id": "372c71b0",
   "metadata": {},
   "outputs": [],
   "source": [
    "### AgentState Schema\n",
    "class AgentState(TypedDict):\n",
    "    messages: Annotated[list[AnyMessage], add_messages]  ## List of messages"
   ]
  },
  {
   "cell_type": "code",
   "execution_count": 22,
   "id": "eaa7cbf5",
   "metadata": {},
   "outputs": [],
   "source": [
    "from langgraph.graph import StateGraph, START, END\n",
    "from langgraph.prebuilt import ToolNode\n",
    "from langgraph.prebuilt import tools_condition"
   ]
  },
  {
   "cell_type": "code",
   "execution_count": 23,
   "id": "faa7babf",
   "metadata": {},
   "outputs": [],
   "source": [
    "## Node Definition\n",
    "def tool_calling_llm (state: AgentState):\n",
    "    \"\"\"Node to call LLM with tools.\"\"\"\n",
    "    \n",
    "    return {\n",
    "        \"messages\": [llm_with_tools.invoke(state[\"messages\"])]\n",
    "    }"
   ]
  },
  {
   "cell_type": "code",
   "execution_count": 24,
   "id": "d7ad1174",
   "metadata": {},
   "outputs": [
    {
     "data": {
      "text/plain": [
       "<langgraph.graph.state.StateGraph at 0x272aacef510>"
      ]
     },
     "execution_count": 24,
     "metadata": {},
     "output_type": "execute_result"
    }
   ],
   "source": [
    "## Building the Graph\n",
    "builder = StateGraph(AgentState)\n",
    "builder.add_node(\"tool_calling_llm\", tool_calling_llm)\n",
    "builder.add_node(\"tools\", ToolNode(tools))"
   ]
  },
  {
   "cell_type": "code",
   "execution_count": 25,
   "id": "84d57737",
   "metadata": {},
   "outputs": [
    {
     "data": {
      "text/plain": [
       "<langgraph.graph.state.StateGraph at 0x272aacef510>"
      ]
     },
     "execution_count": 25,
     "metadata": {},
     "output_type": "execute_result"
    }
   ],
   "source": [
    "## Adding the Edges\n",
    "builder.add_edge(START, \"tool_calling_llm\")\n",
    "builder.add_conditional_edges(\n",
    "    \"tool_calling_llm\",\n",
    "    # If the latest message (result) from assistant is a tool call -> tools_condition routes to tools\n",
    "    # If the latest message (result) from assistant is not a tool call -> tools_condition routes to llm\n",
    "    tools_condition,\n",
    ")"
   ]
  },
  {
   "cell_type": "code",
   "execution_count": 27,
   "id": "4d614ebc",
   "metadata": {},
   "outputs": [],
   "source": [
    "## Build the graph\n",
    "graph = builder.compile()"
   ]
  },
  {
   "cell_type": "code",
   "execution_count": 32,
   "id": "5a5ef237",
   "metadata": {},
   "outputs": [
    {
     "data": {
      "image/png": "[encoded data removed]",
      "text/plain": [
       "<IPython.core.display.Image object>"
      ]
     },
     "metadata": {},
     "output_type": "display_data"
    }
   ],
   "source": [
    "## Display the graph\n",
    "from IPython.display import display, Image\n",
    "\n",
    "display(Image(graph.get_graph().draw_mermaid_png()))"
   ]
  },
  {
   "cell_type": "code",
   "execution_count": null,
   "id": "479d981d",
   "metadata": {},
   "outputs": [
    {
     "name": "stdout",
     "output_type": "stream",
     "text": [
      "================================\u001b[1m Human Message \u001b[0m=================================\n",
      "\n",
      "1706.03762\n",
      "==================================\u001b[1m Ai Message \u001b[0m==================================\n",
      "Tool Calls:\n",
      "  arxiv (88pw208v9)\n",
      " Call ID: 88pw208v9\n",
      "  Args:\n",
      "    query: 1706.03762\n",
      "=================================\u001b[1m Tool Message \u001b[0m=================================\n",
      "Name: arxiv\n",
      "\n",
      "Published: 2023-08-02\n",
      "Title: Attention Is All You Need\n",
      "Authors: Ashish Vaswani, Noam Shazeer, Niki Parmar, Jakob Uszkoreit, Llion Jones, Aidan N. Gomez, Lukasz Kaiser, Illia Polosukhin\n",
      "Summary: The dominant sequence transduction models are based on complex recurrent or\n",
      "convolutional neural networks in an encoder-decoder configuration. The best\n",
      "performing models also connect the encoder and decoder through an attention\n",
      "mechanism. We propose a new simple network architecture, the Transformer, base\n"
     ]
    }
   ],
   "source": [
    "messages = graph.invoke({\n",
    "    \"messages\": \"1706.03762\"\n",
    "})\n",
    "\n",
    "for message in messages[\"messages\"]:\n",
    "    message.pretty_print()"
   ]
  },
  {
   "cell_type": "code",
   "execution_count": 35,
   "id": "80076eda",
   "metadata": {},
   "outputs": [],
   "source": [
    "def Run_Graph(query: str):\n",
    "    \"\"\"\n",
    "    Function to run the graph with a given query.\n",
    "    \"\"\"\n",
    "    messages = graph.invoke({\n",
    "        \"messages\": query\n",
    "    })\n",
    "    \n",
    "    for message in messages[\"messages\"]:\n",
    "        message.pretty_print()"
   ]
  },
  {
   "cell_type": "code",
   "execution_count": 36,
   "id": "c1e5d54c",
   "metadata": {},
   "outputs": [
    {
     "name": "stdout",
     "output_type": "stream",
     "text": [
      "================================\u001b[1m Human Message \u001b[0m=================================\n",
      "\n",
      "What is the latest research on quantum computing?\n",
      "==================================\u001b[1m Ai Message \u001b[0m==================================\n",
      "\n",
      "<function=arxiv{\"query\": \"quantum computing\"}</function>\n"
     ]
    }
   ],
   "source": [
    "Run_Graph(\"What is the latest research on quantum computing?\")"
   ]
  },
  {
   "cell_type": "code",
   "execution_count": 37,
   "id": "9e6b109c",
   "metadata": {},
   "outputs": [
    {
     "name": "stdout",
     "output_type": "stream",
     "text": [
      "================================\u001b[1m Human Message \u001b[0m=================================\n",
      "\n",
      "AI News and Trends\n",
      "==================================\u001b[1m Ai Message \u001b[0m==================================\n",
      "Tool Calls:\n",
      "  tavily_search_results_json (w0dw0vcn2)\n",
      " Call ID: w0dw0vcn2\n",
      "  Args:\n",
      "    query: AI news and trends\n",
      "=================================\u001b[1m Tool Message \u001b[0m=================================\n",
      "Name: tavily_search_results_json\n",
      "\n",
      "[{\"title\": \"6 AI trends you'll see more of in 2025 - Microsoft News\", \"url\": \"https://news.microsoft.com/source/features/ai/6-ai-trends-youll-see-more-of-in-2025/\", \"content\": \"“We’ll start to see these tools having a measurable impact on the throughput of the people and institutions who are working on these huge problems, such as designing sustainable materials and accelerating development of life-saving drugs,” Llorens says.\\n\\nIn 2025, one trend is certain: AI will continue to drive innovation and unlock new potential for people and organizations around the globe.\\n\\n_Illustrations by Michał Bednarski / Makeshift Studios. Story published on Dec 5, 2024._\\n\\n#### Tags: [...] 6 AI trends you’ll see more of in 2025\\n--------------------------------------\\n\\nby Paul Nyhan\\n\\nIn 2025, AI will evolve from a tool for work and home to an integral part of both.\\n\\nAI-powered agents will do more with greater autonomy and help simplify your life at home and on the job. On the global stage, AI will help us find new ways to address some of the biggest challenges we face, from the climate crisis to healthcare access. [...] AI is already having a dramatic impact around the world, driving advances in everything from supercomputing to weather forecasting. It’s fueling historic breakthroughs in scientific research and promises to unlock new capabilities in the natural sciences, sustainable materials, drug discovery and human health.\", \"score\": 0.76992935}, {\"title\": \"Latest AI Breakthroughs and News: May, June, July 2025\", \"url\": \"https://www.crescendo.ai/news/latest-ai-news-and-updates\", \"content\": \"### AI-Driven Job Losses Fuel Record Unemployment Among Graduates\\n\\nDate: July 6, 2025\\n\\nSummary: Recent data shows college graduate unemployment has reached record highs, largely driven by AI-based job displacement. Entry-level roles in customer service, marketing, and data entry are increasingly automated. Experts warn the education-to-employment pipeline needs urgent reform. The trend is sparking debates about reskilling, universal basic income, and AI regulation.\\n\\nSource:News 9 [...] Summary: A Gallup report shows that AI usage in the workplace has nearly doubled in the U.S. over two years. Employee AI use rose from 21% to 40%, with daily users doubling from 4% to 8%. Weekly AI usage also jumped from 11% to 19%, highlighting rapid adoption. The trend reflects increasing reliance on AI for productivity, analysis, and customer service.\\n\\nSource:NewsNationNow\\n\\n### Applebee’s and IHOP to Deploy AI in Restaurants\\n\\nDate: June 20, 2025 [...] ### Amazon and Walmart Compete for AI Retail Dominance\\n\\nDate: July 6, 2025\\n\\nSummary: Amazon and Walmart are racing to integrate AI across logistics, pricing, and customer personalization to gain a retail edge. Amazon is investing in generative AI for supply chain automation, while Walmart is enhancing its predictive analytics and voice shopping. The competition is reshaping global retail infrastructure with AI at the core. Experts say the battle could redefine customer expectations worldwide.\", \"score\": 0.7474137}, {\"title\": \"5 AI Trends Shaping Innovation and ROI in 2025 | Morgan Stanley\", \"url\": \"https://www.morganstanley.com/insights/articles/ai-trends-reasoning-frontier-models-2025-tmt\", \"content\": \"The top trends in new AI frontiers and the focus on enterprises include AI reasoning, custom silicon, cloud migrations, systems to measure AI efficacy and building an agentic AI future. [...] > Recent AI advancements will harness the power of Jevons Paradox, to drive the long-term demand for AI and further increase the total addressable market for all participants in the ecosystem.\\n\\nDave Chen Head of Global Technology Investment Banking, Morgan Stanley\\n\\n   Tweet this(opens in a new tab)\\n   Share this on LinkedIn(opens in a new tab)\\n   Share this on Facebook(opens in a new tab)\\n   Email this [...] Executives also highlighted the “data lakehouse revolution”—a trend to create unified data platforms that combine data lakes’ low-cost storage and flexibility with data warehouses’ structure and management features. This may involve partnerships with big corporations and other large tech companies in the AI ecosystem, to create best-of-breed AI and machine learning services for cloud integrations, cybersecurity, analytics, data sharing and industry-specific solutions.\", \"score\": 0.7467494}, {\"title\": \"AI News | Latest AI News, Analysis & Events\", \"url\": \"https://www.artificialintelligence-news.com/\", \"content\": \"### Sam Altman: AI will cause job losses and national security threats\\n\\nApplications\\n\\nJuly 23, 2025\\n\\n### Military AI contracts awarded to Anthropic, OpenAI, Google, and xAI\\n\\nApplications\\n\\nJuly 15, 2025\\n\\n#### Deep Learning\\n\\n### RAGEN: AI framework tackles LLM agent instability\\n\\nApplications\\n\\nApril 24, 2025\\n\\n### Alibaba Qwen QwQ-32B: Scaled reinforcement learning showcase\\n\\nAlibaba\\n\\nMarch 6, 2025\\n\\n### DeepSeek-R1 reasoning models rival OpenAI in performance\\n\\nArtificial Intelligence [...] ### Google’s Veo 3 AI video creation tools are now widely available\\n\\nApplications\\n\\nJuly 29, 2025\\n\\n#### Machine Learning\\n\\n### Salesforce to buy Informatica in $8B deal\\n\\nArtificial Intelligence\\n\\nMay 28, 2025\\n\\n### Huawei Supernode 384 disrupts Nvidia’s AI market hold\\n\\nArtificial Intelligence\\n\\nMay 28, 2025\\n\\n### OpenAI’s latest LLM opens doors for China’s AI startups\\n\\nAlibaba\\n\\nApril 29, 2025\\n\\nImage 23\\n\\nImage 24\\n\\nImage 25\\n\\n#### Enterprise [...] On-demand Webinar: Powering the Digital Infrastructure of the Future\\n==================================================================================================================================================================================================\\n\\nImage 30\\n\\nApplications\\n\\nDecember 5, 2024\\n\\nTrends in AI for CRM Report\\n=================================================================================================================\\n\\nImage 31\\n\\nArtificial Intelligence\\n\\nJune 19, 2024\", \"score\": 0.71137124}, {\"title\": \"The Top Artificial Intelligence Trends - IBM\", \"url\": \"https://www.ibm.com/think/insights/artificial-intelligence-trends\", \"content\": \"Many other important macro trends in AI—such as the advent of AI agents, or AI's disruption of search behaviors and SEO—are broad, multi-faceted and already well covered elsewhere, and so were left out in favor of more focused developments that haven't received such widespread media attention.\\n\\nThat said, on with the list.\\n\\nIndustry newsletter\\n\\n### The latest tech news, backed by expert insights [...] Join our world-class panel of engineers, researchers, product leaders and more as they cut through the AI noise to bring you the latest in AI news and insights.\\n\\nWatch the latest podcast episodes\\n\\nWhat we'll see next\\n-------------------\\n\\nBy the back half of 2025 (and on through the beginning of next year), pieces will be in place for meaningful disruption of some aspects of the status quo in place since the earliest days of the ongoing generative AI era. [...] The future is always hard to predict. The breakneck pace of improvement in prior generations of AI models had many expecting the generation of models to be released in 2025 to make meaningful steps toward artificial general intelligence (AGI). While the latest models from OpenAI, Meta and the other most-funded players in the AI space are no doubt impressive, they’re certainly short of revolutionary.\", \"score\": 0.6783488}]\n"
     ]
    }
   ],
   "source": [
    "Run_Graph(\"AI News and Trends\")"
   ]
  },
  {
   "cell_type": "markdown",
   "id": "8940e871",
   "metadata": {},
   "source": [
    "#### Create another Graph that loop back to the LLM after tool calls ??"
   ]
  },
  {
   "cell_type": "code",
   "execution_count": 38,
   "id": "6cc554f1",
   "metadata": {},
   "outputs": [
    {
     "data": {
      "image/png": "[encoded data removed]",
      "text/plain": [
       "<IPython.core.display.Image object>"
      ]
     },
     "metadata": {},
     "output_type": "display_data"
    }
   ],
   "source": [
    "## Building the Graph\n",
    "builder2 = StateGraph(AgentState)\n",
    "builder2.add_node(\"tool_calling_llm\", tool_calling_llm)\n",
    "builder2.add_node(\"tools\", ToolNode(tools))\n",
    "\n",
    "\n",
    "## Adding the Edges\n",
    "builder2.add_edge(START, \"tool_calling_llm\")\n",
    "builder2.add_conditional_edges(\n",
    "    \"tool_calling_llm\",\n",
    "    # If the latest message (result) from assistant is a tool call -> tools_condition routes to tools\n",
    "    # If the latest message (result) from assistant is not a tool call -> tools_condition routes to llm\n",
    "    tools_condition,\n",
    ")\n",
    "builder2.add_edge(\"tools\", \"tool_calling_llm\")  ## Adding an edge to loop back to the LLM after tool calls\n",
    "\n",
    "\n",
    "## Build the graph\n",
    "graph2 = builder2.compile()\n",
    "\n",
    "\n",
    "## Display the graph\n",
    "from IPython.display import display, Image\n",
    "\n",
    "display(Image(graph2.get_graph().draw_mermaid_png()))"
   ]
  },
  {
   "cell_type": "code",
   "execution_count": 42,
   "id": "44d7afb4",
   "metadata": {},
   "outputs": [],
   "source": [
    "def Run_Graph2(query: str):\n",
    "    \"\"\"\n",
    "    Function to run the graph with a given query.\n",
    "    \"\"\"\n",
    "    messages = graph2.invoke({\n",
    "        \"messages\": query\n",
    "    })\n",
    "    \n",
    "    for message in messages[\"messages\"]:\n",
    "        message.pretty_print()"
   ]
  },
  {
   "cell_type": "code",
   "execution_count": 45,
   "id": "76931fe0",
   "metadata": {},
   "outputs": [
    {
     "name": "stdout",
     "output_type": "stream",
     "text": [
      "================================\u001b[1m Human Message \u001b[0m=================================\n",
      "\n",
      "What is the latest research on quantum computing?\n",
      "==================================\u001b[1m Ai Message \u001b[0m==================================\n",
      "Tool Calls:\n",
      "  arxiv (4sd69naaw)\n",
      " Call ID: 4sd69naaw\n",
      "  Args:\n",
      "    query: latest research on quantum computing\n",
      "=================================\u001b[1m Tool Message \u001b[0m=================================\n",
      "Name: arxiv\n",
      "\n",
      "Published: 2023-01-27\n",
      "Title: A Living Review of Quantum Computing for Plasma Physics\n",
      "Authors: Óscar Amaro, Diogo Cruz\n",
      "Summary: Quantum Computing promises accelerated simulation of certain classes of\n",
      "problems, in particular in plasma physics. Given the nascent interest in\n",
      "applying quantum computing techniques to study plasma systems, a compendium of\n",
      "the relevant literature would be most useful. As a novel field, new results are\n",
      "common, and it is important for researchers to stay up-to-date on the\n",
      "==================================\u001b[1m Ai Message \u001b[0m==================================\n",
      "Tool Calls:\n",
      "  tavily_search_results_json (ymeb0drhg)\n",
      " Call ID: ymeb0drhg\n",
      "  Args:\n",
      "    query: latest research on quantum computing\n",
      "=================================\u001b[1m Tool Message \u001b[0m=================================\n",
      "Name: tavily_search_results_json\n",
      "\n",
      "[{\"title\": \"The latest developments in quantum science and technology ...\", \"url\": \"https://pme.uchicago.edu/news/world-quantum-day-2024-latest-developments-quantum-science-and-technology\", \"content\": \"New research unites quantum engineering and artificial intelligence\\n\\nResearchers at UChicago Pritzker Molecular Engineering, including Chicago Quantum Exchange IBM postdoctoral scholar Junyu Liu, and collaborators show in a new paper how incorporating quantum computing into the classical machine learning process can potentially help make machine learning more sustainable and efficient.\\n\\nIn novel quantum computer design, qubits use magnets to selectively communicate [...] A team led by the U.S. Department of Energy’s (DOE) Argonne National Laboratory has achieved a major milestone toward future quantum computing. They have extended the coherence time for their novel type of qubit to an impressive 0.1 milliseconds—nearly a thousand times better than the previous record.\\n\\nResearchers “split” phonons—or sound—in step toward new type of quantum computer [...] Two research groups—one at quantum startup memQ, founded by UChicago Pritzker Molecular Engineering alumnus Manish Singh, and one at the U.S. Department of Energy’s Argonne National Laboratory—have used different host materials for erbium to advance quantum technology, demonstrating the versatility of this kind of quantum bit (qubit) and highlighting the importance of materials science to quantum computing and quantum communication.\", \"score\": 0.7913865}, {\"title\": \"Quantum Computing News: ICQE 2025 & Latest Quantum Research\", \"url\": \"https://www.spinquanta.com/news-detail/latest-quantum-computing-news-and-quantum-research\", \"content\": \"In this article, we cover key takeaways from ICQE 2025 and a broader roundup of recent quantum computing news and quantum research.\", \"score\": 0.780947}, {\"title\": \"Breakthroughs in Quantum Computing - Wevolver\", \"url\": \"https://www.wevolver.com/article/breakthroughs-in-quantum-computing\", \"content\": \"EurekAlert! UK Scientists make major breakthrough in developing practical quantum computers that can solve big challenges of our time. [Internet]. Washington: American Association for the Advancement of Science (AAAS). 2023 Feb 8. Available from: \\n\\n AWS and Harvard University researchers reported a breakthrough in quantum networking that improves data transmission over optical fibers. Tech Monitor. 2023 Oct 16. Available from: [...] Another recent pivotal development in the quantum computing field was the shift from emphasizing processor benchmarks to focusing on practical implementations. This transition is vital for transforming quantum computing from a theoretical concept into an applied technology with real-world applications. An updated analysis for 2023 projects indicates that industries like automotive, chemicals, financial services, and life sciences could see an economic impact of up to $1.3 trillion by 2035, [...] Garlinghouse T. Physicists ‘entangle’ individual molecules for the first time, bringing about a new platform for quantum science. Office of the Dean for Research, Princeton University. 2023 Dec 7. Available from: \\n\\n Regev O. A more efficient quantum algorithm for integer factorization. [Internet]. 2023 Aug [cited 2024 Jun 26]. Available from: \\n\\n Ragavan S, Vaikuntanathan V. Space-efficient and noise-robust quantum factoring. arXiv. 2023 Oct 2 [cited 2024 Jun 26]. Available from:\", \"score\": 0.7507177}, {\"title\": \"The Quantum Era has Already Begun - Time Magazine\", \"url\": \"https://time.com/7282334/the-quantum-era-has-begun/\", \"content\": \"Among numerous other developments, in March 2024, Quantinuum announced a breakthrough in the ability to build a large-scale quantum computer. A month later, at the Quantum World Congress, IBM, Microsoft, and Boeing all announced major developments in their quantum research. Capping off the year, in December, Google unveiled its Willow processor, hailed as a significant achievement in the journey toward practical quantum computing. Mainstream enthusiasm was accelerating.\\n\\nAdvertisement [...] For instance, global pharmaceutical companies are advancing both disease research and the frontier of quantum-enabled drug discovery. And in automotive and aerospace, companies are using quantum computing to improve the performance of hydrogen fuel cell catalysts and electric batteries mobility. Companies like ours are currently using quantum hardware to generate truly random encryption keys—making systems more secure against today’s threats and tomorrow’s quantum-enabled ones.\\n\\nAdvertisement [...] # The Quantum Era has Already Begun\\n\\nCircuit Green Board Background\\n\\nBy the end of 2024, even casual observers of technology headlines could see the excitement building around quantum computing–a technology that represents a fundamental shift in how we process information, applying quantum physics to solve problems far beyond the reach of even the most powerful classical computers.\", \"score\": 0.7286136}, {\"title\": \"Quantum information - Latest research and news - Nature\", \"url\": \"https://www.nature.com/subjects/quantum-information\", \"content\": \"### Tensor networks for quantum computing\\n\\nTensor networks provide a powerful tool for understanding and improving quantum computing. This Technical Review discusses applications in simulation, circuit synthesis, error correction and mitigation, and quantum machine learning.\\n\\n### Entanglement-induced provable and robust quantum learning advantages\\n\\n### Quantum frequency resampling\\n\\n### Robust quantum control using reinforcement learning from demonstration [...] Quantum information is problem solving and data processing using a quantum system as the information carrier, rather than binary ‘1’s and ‘0’s used in conventional computation. Quantum information systems could be able to transmit data that is fundamentally secure and solve problems that are beyond the power of modern computers.\\n\\n## Featured\\n\\n### Scaling quantum computers with electronic–photonic chips [...] In software development, open-source projects are common and directly compete with proprietary for-profit products. Francesco Bova and Roger Melko argue that in quantum computing, an open-source initiative is needed and would play a more complementary role.\\n\\n### Scaling quantum computers with electronic–photonic chips\\n\\nAn electronic–photonic quantum system on a chip could be of use in the scaling of quantum information technologies.\\n\\n### Integrated cryogenic chip controls spin qubits\", \"score\": 0.72395444}]\n",
      "==================================\u001b[1m Ai Message \u001b[0m==================================\n",
      "\n",
      "The latest research on quantum computing includes breakthroughs in quantum networking, quantum computing hardware, and quantum algorithms. For example, researchers have made progress in developing practical quantum computers that can solve big challenges, and there have been advancements in quantum networking that improve data transmission over optical fibers. Additionally, there have been developments in quantum computing hardware, such as the creation of a large-scale quantum computer and the announcement of major developments in quantum research by companies like IBM, Microsoft, and Boeing. Furthermore, researchers have been exploring the use of quantum computing in various fields, including drug discovery, materials science, and optimization problems. Overall, the field of quantum computing is rapidly advancing, with new breakthroughs and developments being announced regularly.\n"
     ]
    }
   ],
   "source": [
    "Run_Graph2(\"What is the latest research on quantum computing?\")"
   ]
  },
  {
   "cell_type": "code",
   "execution_count": 44,
   "id": "e3841000",
   "metadata": {},
   "outputs": [
    {
     "name": "stdout",
     "output_type": "stream",
     "text": [
      "================================\u001b[1m Human Message \u001b[0m=================================\n",
      "\n",
      "AI News and Trends\n",
      "==================================\u001b[1m Ai Message \u001b[0m==================================\n",
      "Tool Calls:\n",
      "  tavily_search_results_json (5d9n2s0mf)\n",
      " Call ID: 5d9n2s0mf\n",
      "  Args:\n",
      "    query: AI news and trends\n",
      "=================================\u001b[1m Tool Message \u001b[0m=================================\n",
      "Name: tavily_search_results_json\n",
      "\n",
      "[{\"title\": \"6 AI trends you'll see more of in 2025 - Microsoft News\", \"url\": \"https://news.microsoft.com/source/features/ai/6-ai-trends-youll-see-more-of-in-2025/\", \"content\": \"“We’ll start to see these tools having a measurable impact on the throughput of the people and institutions who are working on these huge problems, such as designing sustainable materials and accelerating development of life-saving drugs,” Llorens says.\\n\\nIn 2025, one trend is certain: AI will continue to drive innovation and unlock new potential for people and organizations around the globe.\\n\\n_Illustrations by Michał Bednarski / Makeshift Studios. Story published on Dec 5, 2024._\\n\\n#### Tags: [...] 6 AI trends you’ll see more of in 2025\\n--------------------------------------\\n\\nby Paul Nyhan\\n\\nIn 2025, AI will evolve from a tool for work and home to an integral part of both.\\n\\nAI-powered agents will do more with greater autonomy and help simplify your life at home and on the job. On the global stage, AI will help us find new ways to address some of the biggest challenges we face, from the climate crisis to healthcare access. [...] AI is already having a dramatic impact around the world, driving advances in everything from supercomputing to weather forecasting. It’s fueling historic breakthroughs in scientific research and promises to unlock new capabilities in the natural sciences, sustainable materials, drug discovery and human health.\", \"score\": 0.76992935}, {\"title\": \"Latest AI Breakthroughs and News: May, June, July 2025\", \"url\": \"https://www.crescendo.ai/news/latest-ai-news-and-updates\", \"content\": \"### AI-Driven Job Losses Fuel Record Unemployment Among Graduates\\n\\nDate: July 6, 2025\\n\\nSummary: Recent data shows college graduate unemployment has reached record highs, largely driven by AI-based job displacement. Entry-level roles in customer service, marketing, and data entry are increasingly automated. Experts warn the education-to-employment pipeline needs urgent reform. The trend is sparking debates about reskilling, universal basic income, and AI regulation.\\n\\nSource:News 9 [...] Summary: A Gallup report shows that AI usage in the workplace has nearly doubled in the U.S. over two years. Employee AI use rose from 21% to 40%, with daily users doubling from 4% to 8%. Weekly AI usage also jumped from 11% to 19%, highlighting rapid adoption. The trend reflects increasing reliance on AI for productivity, analysis, and customer service.\\n\\nSource:NewsNationNow\\n\\n### Applebee’s and IHOP to Deploy AI in Restaurants\\n\\nDate: June 20, 2025 [...] ### Amazon and Walmart Compete for AI Retail Dominance\\n\\nDate: July 6, 2025\\n\\nSummary: Amazon and Walmart are racing to integrate AI across logistics, pricing, and customer personalization to gain a retail edge. Amazon is investing in generative AI for supply chain automation, while Walmart is enhancing its predictive analytics and voice shopping. The competition is reshaping global retail infrastructure with AI at the core. Experts say the battle could redefine customer expectations worldwide.\", \"score\": 0.7474137}, {\"title\": \"5 AI Trends Shaping Innovation and ROI in 2025 | Morgan Stanley\", \"url\": \"https://www.morganstanley.com/insights/articles/ai-trends-reasoning-frontier-models-2025-tmt\", \"content\": \"The top trends in new AI frontiers and the focus on enterprises include AI reasoning, custom silicon, cloud migrations, systems to measure AI efficacy and building an agentic AI future. [...] > Recent AI advancements will harness the power of Jevons Paradox, to drive the long-term demand for AI and further increase the total addressable market for all participants in the ecosystem.\\n\\nDave Chen Head of Global Technology Investment Banking, Morgan Stanley\\n\\n   Tweet this(opens in a new tab)\\n   Share this on LinkedIn(opens in a new tab)\\n   Share this on Facebook(opens in a new tab)\\n   Email this [...] Executives also highlighted the “data lakehouse revolution”—a trend to create unified data platforms that combine data lakes’ low-cost storage and flexibility with data warehouses’ structure and management features. This may involve partnerships with big corporations and other large tech companies in the AI ecosystem, to create best-of-breed AI and machine learning services for cloud integrations, cybersecurity, analytics, data sharing and industry-specific solutions.\", \"score\": 0.7467494}, {\"title\": \"AI News | Latest AI News, Analysis & Events\", \"url\": \"https://www.artificialintelligence-news.com/\", \"content\": \"### Sam Altman: AI will cause job losses and national security threats\\n\\nApplications\\n\\nJuly 23, 2025\\n\\n### Military AI contracts awarded to Anthropic, OpenAI, Google, and xAI\\n\\nApplications\\n\\nJuly 15, 2025\\n\\n#### Deep Learning\\n\\n### RAGEN: AI framework tackles LLM agent instability\\n\\nApplications\\n\\nApril 24, 2025\\n\\n### Alibaba Qwen QwQ-32B: Scaled reinforcement learning showcase\\n\\nAlibaba\\n\\nMarch 6, 2025\\n\\n### DeepSeek-R1 reasoning models rival OpenAI in performance\\n\\nArtificial Intelligence [...] ### Google’s Veo 3 AI video creation tools are now widely available\\n\\nApplications\\n\\nJuly 29, 2025\\n\\n#### Machine Learning\\n\\n### Salesforce to buy Informatica in $8B deal\\n\\nArtificial Intelligence\\n\\nMay 28, 2025\\n\\n### Huawei Supernode 384 disrupts Nvidia’s AI market hold\\n\\nArtificial Intelligence\\n\\nMay 28, 2025\\n\\n### OpenAI’s latest LLM opens doors for China’s AI startups\\n\\nAlibaba\\n\\nApril 29, 2025\\n\\nImage 23\\n\\nImage 24\\n\\nImage 25\\n\\n#### Enterprise [...] On-demand Webinar: Powering the Digital Infrastructure of the Future\\n==================================================================================================================================================================================================\\n\\nImage 30\\n\\nApplications\\n\\nDecember 5, 2024\\n\\nTrends in AI for CRM Report\\n=================================================================================================================\\n\\nImage 31\\n\\nArtificial Intelligence\\n\\nJune 19, 2024\", \"score\": 0.71137124}, {\"title\": \"The Top Artificial Intelligence Trends - IBM\", \"url\": \"https://www.ibm.com/think/insights/artificial-intelligence-trends\", \"content\": \"Many other important macro trends in AI—such as the advent of AI agents, or AI's disruption of search behaviors and SEO—are broad, multi-faceted and already well covered elsewhere, and so were left out in favor of more focused developments that haven't received such widespread media attention.\\n\\nThat said, on with the list.\\n\\nIndustry newsletter\\n\\n### The latest tech news, backed by expert insights [...] Join our world-class panel of engineers, researchers, product leaders and more as they cut through the AI noise to bring you the latest in AI news and insights.\\n\\nWatch the latest podcast episodes\\n\\nWhat we'll see next\\n-------------------\\n\\nBy the back half of 2025 (and on through the beginning of next year), pieces will be in place for meaningful disruption of some aspects of the status quo in place since the earliest days of the ongoing generative AI era. [...] The future is always hard to predict. The breakneck pace of improvement in prior generations of AI models had many expecting the generation of models to be released in 2025 to make meaningful steps toward artificial general intelligence (AGI). While the latest models from OpenAI, Meta and the other most-funded players in the AI space are no doubt impressive, they’re certainly short of revolutionary.\", \"score\": 0.6783488}]\n",
      "==================================\u001b[1m Ai Message \u001b[0m==================================\n",
      "\n",
      "Some of the current trends in AI include the increasing use of AI-powered agents, the integration of AI in various industries such as retail and healthcare, and the development of new AI technologies such as generative AI and AI reasoning. Additionally, there is a growing concern about the impact of AI on job losses and national security, and the need for regulations and reforms to address these issues. Some of the key players in the AI industry include OpenAI, Meta, and Google, and there is a growing competition among them to develop and integrate AI technologies. Overall, AI is expected to continue to drive innovation and unlock new potential for people and organizations around the globe.\n"
     ]
    }
   ],
   "source": [
    "Run_Graph2(\"AI News and Trends\")"
   ]
  },
  {
   "cell_type": "code",
   "execution_count": null,
   "id": "e956e0ed",
   "metadata": {},
   "outputs": [],
   "source": []
  }
 ],
 "metadata": {
  "kernelspec": {
   "display_name": "langgraph-env",
   "language": "python",
   "name": "python3"
  },
  "language_info": {
   "codemirror_mode": {
    "name": "ipython",
    "version": 3
   },
   "file_extension": ".py",
   "mimetype": "text/x-python",
   "name": "python",
   "nbconvert_exporter": "python",
   "pygments_lexer": "ipython3",
   "version": "3.11.13"
  }
 },
 "nbformat": 4,
 "nbformat_minor": 5
}
