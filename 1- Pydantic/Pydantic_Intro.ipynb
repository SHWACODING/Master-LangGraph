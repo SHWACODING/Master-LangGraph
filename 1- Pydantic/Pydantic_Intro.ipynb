{
 "cells": [
  {
   "cell_type": "markdown",
   "id": "33c4259b",
   "metadata": {},
   "source": [
    "Pydantic Basics: Creating and Using Models ->\n",
    "- Pydantic models are the foundation of data validation in Python.\n",
    "- They use Python type annotations to define the structure and validate data at runtime.\n",
    "- Here's a detailed exploration of basic model creation with several examples."
   ]
  },
  {
   "cell_type": "code",
   "execution_count": 1,
   "id": "b9b3eac4",
   "metadata": {},
   "outputs": [],
   "source": [
    "from pydantic import BaseModel"
   ]
  },
  {
   "cell_type": "code",
   "execution_count": 2,
   "id": "840d353e",
   "metadata": {},
   "outputs": [],
   "source": [
    "class Person(BaseModel):\n",
    "    name: str\n",
    "    age: int\n",
    "    city: str"
   ]
  },
  {
   "cell_type": "code",
   "execution_count": 3,
   "id": "6f3d68f6",
   "metadata": {},
   "outputs": [],
   "source": [
    "person = Person(name=\"Shwa\", age=19, city=\"Egypt\")"
   ]
  },
  {
   "cell_type": "code",
   "execution_count": 4,
   "id": "768bc4d4",
   "metadata": {},
   "outputs": [
    {
     "name": "stdout",
     "output_type": "stream",
     "text": [
      "name='Shwa' age=19 city='Egypt'\n"
     ]
    }
   ],
   "source": [
    "print(person)"
   ]
  },
  {
   "cell_type": "code",
   "execution_count": 5,
   "id": "715affa8",
   "metadata": {},
   "outputs": [
    {
     "data": {
      "text/plain": [
       "__main__.Person"
      ]
     },
     "execution_count": 5,
     "metadata": {},
     "output_type": "execute_result"
    }
   ],
   "source": [
    "type(person)"
   ]
  },
  {
   "cell_type": "code",
   "execution_count": 6,
   "id": "e4628840",
   "metadata": {},
   "outputs": [],
   "source": [
    "from dataclasses import dataclass\n",
    "\n",
    "@dataclass\n",
    "class Human():\n",
    "    name: str\n",
    "    age: int\n",
    "    city: str"
   ]
  },
  {
   "cell_type": "code",
   "execution_count": 7,
   "id": "b818b323",
   "metadata": {},
   "outputs": [],
   "source": [
    "human = Human(name=\"Shwa\", age=19, city=\"Egypt\")"
   ]
  },
  {
   "cell_type": "code",
   "execution_count": 8,
   "id": "bc2926e3",
   "metadata": {},
   "outputs": [
    {
     "name": "stdout",
     "output_type": "stream",
     "text": [
      "Human(name='Shwa', age=19, city='Egypt')\n"
     ]
    }
   ],
   "source": [
    "print(human)"
   ]
  },
  {
   "cell_type": "code",
   "execution_count": 9,
   "id": "daecbd9d",
   "metadata": {},
   "outputs": [
    {
     "data": {
      "text/plain": [
       "__main__.Human"
      ]
     },
     "execution_count": 9,
     "metadata": {},
     "output_type": "execute_result"
    }
   ],
   "source": [
    "type(human)"
   ]
  },
  {
   "cell_type": "code",
   "execution_count": 10,
   "id": "071afc67",
   "metadata": {},
   "outputs": [],
   "source": [
    "# Validation Error ??\n",
    "\n",
    "# person = Person(name=\"Shwa\", age=19, city=31)\n",
    "# human = Human(name=\"Shwa\", age=19, city=32)"
   ]
  },
  {
   "cell_type": "markdown",
   "id": "5a4d2e43",
   "metadata": {},
   "source": [
    "Model With Optional Fields\n",
    "\n",
    "- Add Optional Fields Using Python's Optional Type"
   ]
  },
  {
   "cell_type": "code",
   "execution_count": 11,
   "id": "66cfb627",
   "metadata": {},
   "outputs": [],
   "source": [
    "from typing import Optional\n",
    "\n",
    "class Employee(BaseModel):\n",
    "    id: int\n",
    "    name: str\n",
    "    department: str\n",
    "    salary: Optional[float] = None  # Optional With Default Value\n",
    "    is_active: Optional[bool] = True  # Optional With Default Value"
   ]
  },
  {
   "cell_type": "code",
   "execution_count": 12,
   "id": "30af82c8",
   "metadata": {},
   "outputs": [],
   "source": [
    "employee = Employee(\n",
    "    id=1,\n",
    "    name=\"Shwa\",\n",
    "    department=\"AI Engineering\",\n",
    "    salary=1000000\n",
    ")"
   ]
  },
  {
   "cell_type": "code",
   "execution_count": 13,
   "id": "6f75a23a",
   "metadata": {},
   "outputs": [
    {
     "name": "stdout",
     "output_type": "stream",
     "text": [
      "id=1 name='Shwa' department='AI Engineering' salary=1000000.0 is_active=True\n"
     ]
    }
   ],
   "source": [
    "print(employee)"
   ]
  },
  {
   "cell_type": "code",
   "execution_count": 14,
   "id": "dc0e82a2",
   "metadata": {},
   "outputs": [
    {
     "data": {
      "text/plain": [
       "__main__.Employee"
      ]
     },
     "execution_count": 14,
     "metadata": {},
     "output_type": "execute_result"
    }
   ],
   "source": [
    "type(employee)"
   ]
  },
  {
   "cell_type": "markdown",
   "id": "0b58b4a5",
   "metadata": {},
   "source": [
    "Definition:\n",
    "- Optional[type]: Indicates the field can be None\n",
    "- Default value (= None or = True): Makes the field optional\n",
    "- Required Fields must still be provided\n",
    "- Pydantic validates types even for optional fields when values are provided"
   ]
  },
  {
   "cell_type": "code",
   "execution_count": 15,
   "id": "ac9510d7",
   "metadata": {},
   "outputs": [],
   "source": [
    "from pydantic import BaseModel\n",
    "from typing import List\n",
    "\n",
    "class ClassRoom (BaseModel):\n",
    "    room_number: str\n",
    "    students: List[str]\n",
    "    capacity: int"
   ]
  },
  {
   "cell_type": "code",
   "execution_count": 16,
   "id": "430f6389",
   "metadata": {},
   "outputs": [],
   "source": [
    "classroom = ClassRoom(\n",
    "    room_number=\"A101\",\n",
    "    students=[\"Merna\", \"Malak\", \"Shwa\"],\n",
    "    capacity=30\n",
    ")"
   ]
  },
  {
   "cell_type": "code",
   "execution_count": 17,
   "id": "0e116413",
   "metadata": {},
   "outputs": [
    {
     "name": "stdout",
     "output_type": "stream",
     "text": [
      "room_number='A101' students=['Merna', 'Malak', 'Shwa'] capacity=30\n"
     ]
    }
   ],
   "source": [
    "print(classroom)"
   ]
  },
  {
   "cell_type": "code",
   "execution_count": 18,
   "id": "28f49428",
   "metadata": {},
   "outputs": [
    {
     "data": {
      "text/plain": [
       "__main__.ClassRoom"
      ]
     },
     "execution_count": 18,
     "metadata": {},
     "output_type": "execute_result"
    }
   ],
   "source": [
    "type(classroom)"
   ]
  },
  {
   "cell_type": "code",
   "execution_count": 19,
   "id": "135cf0d5",
   "metadata": {},
   "outputs": [
    {
     "name": "stdout",
     "output_type": "stream",
     "text": [
      "Error 1 validation error for ClassRoom\n",
      "students.1\n",
      "  Input should be a valid string [type=string_type, input_value=7523, input_type=int]\n",
      "    For further information visit https://errors.pydantic.dev/2.11/v/string_type\n"
     ]
    }
   ],
   "source": [
    "try:\n",
    "    invalid_room = ClassRoom(room_number=\"A22\", students=[\"Krish\", 7523], capacity=20)\n",
    "except ValueError as e:\n",
    "    print(f\"Error {e}\")"
   ]
  },
  {
   "cell_type": "markdown",
   "id": "bfbe4e68",
   "metadata": {},
   "source": [
    "Create a Complex Structure With Nested Models"
   ]
  },
  {
   "cell_type": "code",
   "execution_count": 20,
   "id": "1a68c9b7",
   "metadata": {},
   "outputs": [],
   "source": [
    "from pydantic import BaseModel\n",
    "\n",
    "class Address(BaseModel):\n",
    "    street: str\n",
    "    city: str\n",
    "    zip_code: str\n",
    "    \n",
    "class Customer(BaseModel):\n",
    "    customer_id: int\n",
    "    name: str\n",
    "    address: Address  # Nested Model ??\n",
    "\n",
    "# Create a Customer With Nested Address ??\n",
    "customer = Customer(\n",
    "    customer_id=1,\n",
    "    name=\"Shwa\",\n",
    "    address={\n",
    "        \"street\": \"ZXS212\",\n",
    "        \"city\": \"Egypt\",\n",
    "        \"zip_code\": \"17321\"\n",
    "    }\n",
    ")"
   ]
  },
  {
   "cell_type": "code",
   "execution_count": 21,
   "id": "ec49ddcf",
   "metadata": {},
   "outputs": [
    {
     "name": "stdout",
     "output_type": "stream",
     "text": [
      "customer_id=1 name='Shwa' address=Address(street='ZXS212', city='Egypt', zip_code='17321')\n"
     ]
    }
   ],
   "source": [
    "print(customer)"
   ]
  },
  {
   "cell_type": "markdown",
   "id": "0dce3009",
   "metadata": {},
   "source": [
    "Pydantic Fields : Customization and Constraints \n",
    "- The Field Function in Pydantic Enhances Model Fields Beyond Basic Type Hints.\n",
    "- By Allowing you to specify :\n",
    "- - Validation Rules\n",
    "- - Default Values\n",
    "- - Aliases\n",
    "- - and More.."
   ]
  },
  {
   "cell_type": "code",
   "execution_count": 24,
   "id": "6dde208b",
   "metadata": {},
   "outputs": [],
   "source": [
    "from pydantic import BaseModel, Field\n",
    "\n",
    "class Item(BaseModel):\n",
    "    name: str = Field(min_length=3, max_length=50)\n",
    "    price: float = Field(gt=0, le=1000)\n",
    "    quantity: int = Field(ge=0)"
   ]
  },
  {
   "cell_type": "code",
   "execution_count": 25,
   "id": "96ab86e2",
   "metadata": {},
   "outputs": [],
   "source": [
    "item = Item(name=\"Book\", price=100, quantity=5)"
   ]
  },
  {
   "cell_type": "code",
   "execution_count": 26,
   "id": "ce31e91f",
   "metadata": {},
   "outputs": [
    {
     "name": "stdout",
     "output_type": "stream",
     "text": [
      "name='Book' price=100.0 quantity=5\n"
     ]
    }
   ],
   "source": [
    "print(item)"
   ]
  },
  {
   "cell_type": "code",
   "execution_count": 28,
   "id": "a68bfb5a",
   "metadata": {},
   "outputs": [],
   "source": [
    "# Error \n",
    "\n",
    "# item = Item(name=\"Ti\", price=100, quantity=5)"
   ]
  },
  {
   "cell_type": "code",
   "execution_count": null,
   "id": "f8894960",
   "metadata": {},
   "outputs": [],
   "source": []
  }
 ],
 "metadata": {
  "kernelspec": {
   "display_name": "langgraph-env",
   "language": "python",
   "name": "python3"
  },
  "language_info": {
   "codemirror_mode": {
    "name": "ipython",
    "version": 3
   },
   "file_extension": ".py",
   "mimetype": "text/x-python",
   "name": "python",
   "nbconvert_exporter": "python",
   "pygments_lexer": "ipython3",
   "version": "3.11.13"
  }
 },
 "nbformat": 4,
 "nbformat_minor": 5
}
